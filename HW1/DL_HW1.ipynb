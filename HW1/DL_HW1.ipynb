{
 "cells": [
  {
   "cell_type": "code",
   "execution_count": 18,
   "id": "131a847e-85fe-48e8-a80e-972ed2a03ca5",
   "metadata": {},
   "outputs": [],
   "source": [
    "import numpy as np\n",
    "import os\n",
    "import matplotlib.pyplot as plt"
   ]
  },
  {
   "cell_type": "code",
   "execution_count": 35,
   "id": "eb6ff0ab-c484-4701-af66-b5120fa81fdf",
   "metadata": {},
   "outputs": [],
   "source": [
    "import numpy as np\n",
    "\n",
    "\"\"\"This script implements the functions for reading data.\n",
    "\"\"\"\n",
    "\n",
    "def load_data(filename):\n",
    "    \"\"\"Load a given txt file.\n",
    "\n",
    "    Args:\n",
    "        filename: A string.\n",
    "\n",
    "    Returns:\n",
    "        raw_data: An array of shape [n_samples, 256].\n",
    "        labels : An array of shape [n_samples,].\n",
    "        \n",
    "    \"\"\"\n",
    "    data= np.load(filename)\n",
    "    x= data['x']\n",
    "    y= data['y']\n",
    "    return x, y\n",
    "\n",
    "def train_valid_split(raw_data, labels, split_index):\n",
    "\t\"\"\"Split the original training data into a new training dataset\n",
    "\tand a validation dataset.\n",
    "\tn_samples = n_train_samples + n_valid_samples\n",
    "\n",
    "\tArgs:\n",
    "\t\traw_data: An array of shape [n_samples, 256].\n",
    "        labels : An array of shape [n_samples,].\n",
    "\t\tsplit_index: An integer.\n",
    "\n",
    "\t\"\"\"\n",
    "\treturn raw_data[:split_index], raw_data[split_index:], labels[:split_index], labels[split_index:]\n",
    "\n",
    "def prepare_X(raw_X):\n",
    "    \"\"\"Extract features from raw_X as required.\n",
    "\n",
    "    Args:\n",
    "        raw_X: An array of shape [n_samples, 256].\n",
    "\n",
    "    Returns:\n",
    "        X: An array of shape [n_samples, n_features].\n",
    "    \"\"\"\n",
    "    raw_image = raw_X.reshape((-1, 16, 16))\n",
    "\n",
    "\t# Feature 1: Measure of Symmetry\n",
    "\t### YOUR CODE HERE\n",
    "    symmetry = -np.sum(np.abs(raw_image - np.fliplr(raw_image)), axis=(1, 2)) / 256\n",
    "\n",
    "\t### END YOUR CODE\n",
    "\n",
    "\t# Feature 2: Measure of Intensity\n",
    "\t### YOUR CODE HERE\n",
    "    intensity = np.sum(raw_image, axis=(1, 2)) / 256\n",
    "\t### END YOUR CODE\n",
    "\n",
    "\t# Feature 3: Bias Term. Always 1.\n",
    "\t### YOUR CODE HERE\n",
    "    bias = np.ones((raw_image.shape[0], 1))\n",
    "\t### END YOUR CODE\n",
    "\n",
    "\t# Stack features together in the following order.\n",
    "\t# [Feature 3, Feature 1, Feature 2]\n",
    "\t### YOUR CODE HERE\n",
    "    X = np.hstack((bias,symmetry.reshape(-1,1),intensity.reshape(-1,1)))\n",
    "\t### END YOUR CODE\n",
    "    return X\n",
    "\n",
    "def prepare_y(raw_y):\n",
    "    \"\"\"\n",
    "    Args:\n",
    "        raw_y: An array of shape [n_samples,].\n",
    "        \n",
    "    Returns:\n",
    "        y: An array of shape [n_samples,].\n",
    "        idx:return idx for data label 1 and 2.\n",
    "    \"\"\"\n",
    "    y = raw_y\n",
    "    idx = np.where((raw_y==1) | (raw_y==2))\n",
    "    y[np.where(raw_y==0)] = 0\n",
    "    y[np.where(raw_y==1)] = 1\n",
    "    y[np.where(raw_y==2)] = 2\n",
    "\n",
    "    return y, idx\n",
    "\n",
    "\n",
    "\n",
    "\n"
   ]
  },
  {
   "cell_type": "code",
   "execution_count": 36,
   "id": "8432d488-fb41-4900-bd34-5039b4ffc8af",
   "metadata": {},
   "outputs": [],
   "source": [
    "data_dir = \"data/\"\n",
    "train_filename = \"training.npz\""
   ]
  },
  {
   "cell_type": "code",
   "execution_count": 37,
   "id": "ec23a34d-ff86-44ae-9951-fe2e1ec6b202",
   "metadata": {},
   "outputs": [],
   "source": [
    "raw_data, labels = load_data(os.path.join(data_dir, train_filename))"
   ]
  },
  {
   "cell_type": "code",
   "execution_count": 66,
   "id": "3ad95719-c70f-4868-88d3-0b2ffdfe4ec9",
   "metadata": {},
   "outputs": [],
   "source": [
    "def visualize_features(X, y):\n",
    "    '''This function is used to plot a 2-D scatter plot of training features. \n",
    "\n",
    "    Args:\n",
    "        X: An array of shape [n_samples, 2].\n",
    "        y: An array of shape [n_samples,]. Only contains 1 or -1.\n",
    "\n",
    "    Returns:\n",
    "        No return. Save the plot to 'train_features.*' and include it\n",
    "        in submission.\n",
    "    '''\n",
    "    ### YOUR CODE HERE\n",
    "    # Extract features for class 0 and class 1\n",
    "    class_1 = X[y == 1]\n",
    "    class_2 = X[y == -1]\n",
    "\n",
    "    # Plot features\n",
    "    plt.figure(figsize=(8, 6))\n",
    "    plt.scatter(class_1[:, 0], class_1[:, 1], color='green', label='Class 1')\n",
    "    plt.scatter(class_2[:, 0], class_2[:, 1], color='red', label='Class 2')\n",
    "\n",
    "    plt.title(\"Scatter plot of training features\")\n",
    "    plt.xlabel(\"Measure of Symmetry\")\n",
    "    plt.ylabel(\"Measure of Intensity\")\n",
    "    plt.legend()\n",
    "\t\n",
    "    # Save the plot to 'train_features.png'\n",
    "    plt.savefig('train_features.png')\n",
    "    plt.show()\n",
    "    ### END YOUR CODE"
   ]
  },
  {
   "cell_type": "code",
   "execution_count": null,
   "id": "222678d0-8cd1-41e6-b98e-b28ee3b656e9",
   "metadata": {},
   "outputs": [],
   "source": []
  },
  {
   "cell_type": "code",
   "execution_count": null,
   "id": "d4938969-5e27-446e-8a3b-3dc5d09ab037",
   "metadata": {},
   "outputs": [],
   "source": []
  },
  {
   "cell_type": "code",
   "execution_count": 67,
   "id": "bbdcfa86-71fd-4997-a41b-14b21d778647",
   "metadata": {},
   "outputs": [],
   "source": [
    "    raw_data, labels = load_data(os.path.join(data_dir, train_filename))\n",
    "    raw_train, raw_valid, label_train, label_valid = train_valid_split(raw_data, labels, 2300)\n",
    "\n",
    "    ##### Preprocess raw data to extract features\n",
    "    train_X_all = prepare_X(raw_train)\n",
    "    valid_X_all = prepare_X(raw_valid)\n",
    "    ##### Preprocess labels for all data to 0,1,2 and return the idx for data from '1' and '2' class.\n",
    "    train_y_all, train_idx = prepare_y(label_train)\n",
    "    valid_y_all, val_idx = prepare_y(label_valid)  \n",
    "\n"
   ]
  },
  {
   "cell_type": "code",
   "execution_count": 68,
   "id": "2ab3f232-6a62-4963-89ac-e4c625e2c2e4",
   "metadata": {},
   "outputs": [
    {
     "data": {
      "text/plain": [
       "numpy.ndarray"
      ]
     },
     "execution_count": 68,
     "metadata": {},
     "output_type": "execute_result"
    }
   ],
   "source": [
    "type(train_y_all)"
   ]
  },
  {
   "cell_type": "code",
   "execution_count": 69,
   "id": "4e19a696-b062-403a-a02c-fcf2ca366894",
   "metadata": {},
   "outputs": [
    {
     "data": {
      "image/png": "[encoded data removed]",
      "text/plain": [
       "<Figure size 800x600 with 1 Axes>"
      ]
     },
     "metadata": {},
     "output_type": "display_data"
    }
   ],
   "source": [
    "    ####### For binary case, only use data from '1' and '2'  \n",
    "    train_X = train_X_all[train_idx]\n",
    "    train_y = train_y_all[train_idx]\n",
    "    ####### Only use the first 1350 data examples for binary training. \n",
    "    train_X = train_X[0:1350]\n",
    "    train_y = train_y[0:1350]\n",
    "    valid_X = valid_X_all[val_idx]\n",
    "    valid_y = valid_y_all[val_idx]\n",
    "    ####### set lables to  1 and -1. Here convert label '2' to '-1' which means we treat data '1' as postitive class. \n",
    "    train_y[np.where(train_y==2)] = -1\n",
    "    valid_y[np.where(valid_y==2)] = -1\n",
    "    data_shape= train_y.shape[0] \n",
    "\n",
    "#    # Visualize training data.\n",
    "    visualize_features(train_X[:, 1:3], train_y)"
   ]
  },
  {
   "cell_type": "code",
   "execution_count": 53,
   "id": "7c71b195-fcca-4c48-8dd3-a49fcd93aeb0",
   "metadata": {},
   "outputs": [
    {
     "data": {
      "text/plain": [
       "(784,)"
      ]
     },
     "execution_count": 53,
     "metadata": {},
     "output_type": "execute_result"
    }
   ],
   "source": [
    "train_y[train_y==1].shap"
   ]
  },
  {
   "cell_type": "code",
   "execution_count": 80,
   "id": "fce8d279-adbd-4501-99a8-0086a8211b15",
   "metadata": {},
   "outputs": [],
   "source": [
    "w = np.random.normal(loc=0,scale=0.001,size=(3,1))"
   ]
  },
  {
   "cell_type": "code",
   "execution_count": 81,
   "id": "a1a871ff-8bf3-4a51-9588-9b29af39ec45",
   "metadata": {},
   "outputs": [
    {
     "data": {
      "text/plain": [
       "array([[ 0.00187342],\n",
       "       [-0.00066957],\n",
       "       [ 0.00017409]])"
      ]
     },
     "execution_count": 81,
     "metadata": {},
     "output_type": "execute_result"
    }
   ],
   "source": [
    "w"
   ]
  },
  {
   "cell_type": "code",
   "execution_count": 82,
   "id": "20a2cda9-236c-41f0-b26d-9ce27b5406ed",
   "metadata": {},
   "outputs": [
    {
     "data": {
      "text/plain": [
       "array([[ 1.        , -0.05953125, -0.75391406],\n",
       "       [ 1.        , -0.72316406, -0.42091797],\n",
       "       [ 1.        , -0.07054688, -0.77228125],\n",
       "       ...,\n",
       "       [ 1.        , -0.61173437, -0.348125  ],\n",
       "       [ 1.        , -0.18285937, -0.34114063],\n",
       "       [ 1.        , -0.13855469, -0.75471484]])"
      ]
     },
     "execution_count": 82,
     "metadata": {},
     "output_type": "execute_result"
    }
   ],
   "source": [
    "train_X_all"
   ]
  },
  {
   "cell_type": "code",
   "execution_count": 87,
   "id": "88dc1cc8-0d3f-472b-8531-92ac49af828a",
   "metadata": {},
   "outputs": [],
   "source": [
    "z = np.dot(train_X_all,w)"
   ]
  },
  {
   "cell_type": "code",
   "execution_count": 98,
   "id": "8e3e6d28-e4dd-42e3-ab88-6349e29e5323",
   "metadata": {},
   "outputs": [],
   "source": [
    "probs_1 = 1/(1+np.exp(-z))\n",
    "probs_neg_1 = 1 - probs_1"
   ]
  },
  {
   "cell_type": "code",
   "execution_count": 104,
   "id": "ff33a949-d0d2-467f-845f-c60c9460d461",
   "metadata": {},
   "outputs": [],
   "source": [
    "y_pred = np.hstack((probs_1,probs_neg_1))"
   ]
  },
  {
   "cell_type": "markdown",
   "id": "29026962-52fb-4211-ab8b-00001b89b91f",
   "metadata": {},
   "source": [
    "# "
   ]
  },
  {
   "cell_type": "code",
   "execution_count": 105,
   "id": "a32e6aea-5051-4cd3-bc9e-529bf8545980",
   "metadata": {},
   "outputs": [],
   "source": [
    "y = train_y_all"
   ]
  },
  {
   "cell_type": "code",
   "execution_count": 108,
   "id": "ed2fdd2b-3a3f-4476-87c5-9108105b2929",
   "metadata": {},
   "outputs": [],
   "source": [
    "cross_entropy = -np.mean(y*np.log(y_pred[:,0])+(1-y)*np.log(y_pred[:,1]))"
   ]
  },
  {
   "cell_type": "code",
   "execution_count": 109,
   "id": "28d33c34-c8fc-492d-afbe-f68473484f3b",
   "metadata": {},
   "outputs": [
    {
     "data": {
      "text/plain": [
       "0.6924625654564468"
      ]
     },
     "execution_count": 109,
     "metadata": {},
     "output_type": "execute_result"
    }
   ],
   "source": [
    "cross_entropy"
   ]
  },
  {
   "cell_type": "code",
   "execution_count": null,
   "id": "4b7b3b7a-1174-4ea7-b277-b9b91422bcf2",
   "metadata": {},
   "outputs": [],
   "source": []
  }
 ],
 "metadata": {
  "kernelspec": {
   "display_name": "Python 3 (ipykernel)",
   "language": "python",
   "name": "python3"
  },
  "language_info": {
   "codemirror_mode": {
    "name": "ipython",
    "version": 3
   },
   "file_extension": ".py",
   "mimetype": "text/x-python",
   "name": "python",
   "nbconvert_exporter": "python",
   "pygments_lexer": "ipython3",
   "version": "3.9.6"
  }
 },
 "nbformat": 4,
 "nbformat_minor": 5
}
